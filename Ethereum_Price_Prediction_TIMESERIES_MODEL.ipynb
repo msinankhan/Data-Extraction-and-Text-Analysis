{
  "nbformat": 4,
  "nbformat_minor": 0,
  "metadata": {
    "colab": {
      "name": "Ethereum Price Prediction- TIMESERIES MODEL.ipynb",
      "provenance": [],
      "collapsed_sections": [],
      "mount_file_id": "1Jm_-yoh3BssW8yjpRZIyg-Rk27qOIDhM",
      "authorship_tag": "ABX9TyMdobUsSNrF8GeffaaWwLkH",
      "include_colab_link": true
    },
    "kernelspec": {
      "name": "python3",
      "display_name": "Python 3"
    },
    "language_info": {
      "name": "python"
    }
  },
  "cells": [
    {
      "cell_type": "markdown",
      "metadata": {
        "id": "view-in-github",
        "colab_type": "text"
      },
      "source": [
        "<a href=\"https://colab.research.google.com/github/msinankhan/Data-Extraction-and-Text-Analysis/blob/main/Ethereum_Price_Prediction_TIMESERIES_MODEL.ipynb\" target=\"_parent\"><img src=\"https://colab.research.google.com/assets/colab-badge.svg\" alt=\"Open In Colab\"/></a>"
      ]
    },
    {
      "cell_type": "code",
      "execution_count": 1,
      "metadata": {
        "id": "mI9B4rLGILst"
      },
      "outputs": [],
      "source": [
        "import tensorflow as tf\n",
        "import pandas as pd \n",
        "import numpy as np \n",
        "import matplotlib.pyplot as plt"
      ]
    },
    {
      "cell_type": "code",
      "source": [
        "from google.colab import drive"
      ],
      "metadata": {
        "id": "6d5FU2g3JOd9"
      },
      "execution_count": 2,
      "outputs": []
    },
    {
      "cell_type": "code",
      "source": [
        "drive.mount('/content/drive')"
      ],
      "metadata": {
        "colab": {
          "base_uri": "https://localhost:8080/"
        },
        "id": "6bmAZswbJPz5",
        "outputId": "3b67ed03-11bf-4f80-98b2-39ea5c0cab47"
      },
      "execution_count": 3,
      "outputs": [
        {
          "output_type": "stream",
          "name": "stdout",
          "text": [
            "Drive already mounted at /content/drive; to attempt to forcibly remount, call drive.mount(\"/content/drive\", force_remount=True).\n"
          ]
        }
      ]
    },
    {
      "cell_type": "code",
      "source": [
        "data_dir = 'drive/MyDrive/data/ETH-USD.csv'"
      ],
      "metadata": {
        "id": "aSofG-_EQ4K1"
      },
      "execution_count": 4,
      "outputs": []
    },
    {
      "cell_type": "code",
      "source": [
        "import pandas as pd\n",
        "df = pd.read_csv(data_dir, \n",
        "                 parse_dates=[\"Date\"], \n",
        "                 index_col=[\"Date\"]) # parse the date column (tells pandas column 1 is a datetime)\n"
      ],
      "metadata": {
        "id": "fbGb99AcRy41"
      },
      "execution_count": 5,
      "outputs": []
    },
    {
      "cell_type": "code",
      "source": [
        "df.info()"
      ],
      "metadata": {
        "colab": {
          "base_uri": "https://localhost:8080/"
        },
        "id": "jVZ8PMvzSGrg",
        "outputId": "13253b35-0d83-49a9-ad31-3b7fb7507bc2"
      },
      "execution_count": 6,
      "outputs": [
        {
          "output_type": "stream",
          "name": "stdout",
          "text": [
            "<class 'pandas.core.frame.DataFrame'>\n",
            "DatetimeIndex: 1753 entries, 2017-11-09 to 2022-08-27\n",
            "Data columns (total 6 columns):\n",
            " #   Column     Non-Null Count  Dtype  \n",
            "---  ------     --------------  -----  \n",
            " 0   Open       1753 non-null   float64\n",
            " 1   High       1753 non-null   float64\n",
            " 2   Low        1753 non-null   float64\n",
            " 3   Close      1753 non-null   float64\n",
            " 4   Adj Close  1753 non-null   float64\n",
            " 5   Volume     1753 non-null   int64  \n",
            "dtypes: float64(5), int64(1)\n",
            "memory usage: 95.9 KB\n"
          ]
        }
      ]
    },
    {
      "cell_type": "code",
      "source": [
        "df.head()"
      ],
      "metadata": {
        "colab": {
          "base_uri": "https://localhost:8080/",
          "height": 237
        },
        "id": "2DV16o-kSJ_Q",
        "outputId": "0cf870ab-8245-4780-9244-fc759eb6af5f"
      },
      "execution_count": 7,
      "outputs": [
        {
          "output_type": "execute_result",
          "data": {
            "text/plain": [
              "                  Open        High         Low       Close   Adj Close  \\\n",
              "Date                                                                     \n",
              "2017-11-09  308.644989  329.451996  307.056000  320.884003  320.884003   \n",
              "2017-11-10  320.670990  324.717987  294.541992  299.252991  299.252991   \n",
              "2017-11-11  298.585999  319.453003  298.191986  314.681000  314.681000   \n",
              "2017-11-12  314.690002  319.153015  298.513000  307.907990  307.907990   \n",
              "2017-11-13  307.024994  328.415009  307.024994  316.716003  316.716003   \n",
              "\n",
              "                Volume  \n",
              "Date                    \n",
              "2017-11-09   893249984  \n",
              "2017-11-10   885985984  \n",
              "2017-11-11   842300992  \n",
              "2017-11-12  1613479936  \n",
              "2017-11-13  1041889984  "
            ],
            "text/html": [
              "\n",
              "  <div id=\"df-5257c6f6-8b07-4bca-bc11-40b11f5e70d5\">\n",
              "    <div class=\"colab-df-container\">\n",
              "      <div>\n",
              "<style scoped>\n",
              "    .dataframe tbody tr th:only-of-type {\n",
              "        vertical-align: middle;\n",
              "    }\n",
              "\n",
              "    .dataframe tbody tr th {\n",
              "        vertical-align: top;\n",
              "    }\n",
              "\n",
              "    .dataframe thead th {\n",
              "        text-align: right;\n",
              "    }\n",
              "</style>\n",
              "<table border=\"1\" class=\"dataframe\">\n",
              "  <thead>\n",
              "    <tr style=\"text-align: right;\">\n",
              "      <th></th>\n",
              "      <th>Open</th>\n",
              "      <th>High</th>\n",
              "      <th>Low</th>\n",
              "      <th>Close</th>\n",
              "      <th>Adj Close</th>\n",
              "      <th>Volume</th>\n",
              "    </tr>\n",
              "    <tr>\n",
              "      <th>Date</th>\n",
              "      <th></th>\n",
              "      <th></th>\n",
              "      <th></th>\n",
              "      <th></th>\n",
              "      <th></th>\n",
              "      <th></th>\n",
              "    </tr>\n",
              "  </thead>\n",
              "  <tbody>\n",
              "    <tr>\n",
              "      <th>2017-11-09</th>\n",
              "      <td>308.644989</td>\n",
              "      <td>329.451996</td>\n",
              "      <td>307.056000</td>\n",
              "      <td>320.884003</td>\n",
              "      <td>320.884003</td>\n",
              "      <td>893249984</td>\n",
              "    </tr>\n",
              "    <tr>\n",
              "      <th>2017-11-10</th>\n",
              "      <td>320.670990</td>\n",
              "      <td>324.717987</td>\n",
              "      <td>294.541992</td>\n",
              "      <td>299.252991</td>\n",
              "      <td>299.252991</td>\n",
              "      <td>885985984</td>\n",
              "    </tr>\n",
              "    <tr>\n",
              "      <th>2017-11-11</th>\n",
              "      <td>298.585999</td>\n",
              "      <td>319.453003</td>\n",
              "      <td>298.191986</td>\n",
              "      <td>314.681000</td>\n",
              "      <td>314.681000</td>\n",
              "      <td>842300992</td>\n",
              "    </tr>\n",
              "    <tr>\n",
              "      <th>2017-11-12</th>\n",
              "      <td>314.690002</td>\n",
              "      <td>319.153015</td>\n",
              "      <td>298.513000</td>\n",
              "      <td>307.907990</td>\n",
              "      <td>307.907990</td>\n",
              "      <td>1613479936</td>\n",
              "    </tr>\n",
              "    <tr>\n",
              "      <th>2017-11-13</th>\n",
              "      <td>307.024994</td>\n",
              "      <td>328.415009</td>\n",
              "      <td>307.024994</td>\n",
              "      <td>316.716003</td>\n",
              "      <td>316.716003</td>\n",
              "      <td>1041889984</td>\n",
              "    </tr>\n",
              "  </tbody>\n",
              "</table>\n",
              "</div>\n",
              "      <button class=\"colab-df-convert\" onclick=\"convertToInteractive('df-5257c6f6-8b07-4bca-bc11-40b11f5e70d5')\"\n",
              "              title=\"Convert this dataframe to an interactive table.\"\n",
              "              style=\"display:none;\">\n",
              "        \n",
              "  <svg xmlns=\"http://www.w3.org/2000/svg\" height=\"24px\"viewBox=\"0 0 24 24\"\n",
              "       width=\"24px\">\n",
              "    <path d=\"M0 0h24v24H0V0z\" fill=\"none\"/>\n",
              "    <path d=\"M18.56 5.44l.94 2.06.94-2.06 2.06-.94-2.06-.94-.94-2.06-.94 2.06-2.06.94zm-11 1L8.5 8.5l.94-2.06 2.06-.94-2.06-.94L8.5 2.5l-.94 2.06-2.06.94zm10 10l.94 2.06.94-2.06 2.06-.94-2.06-.94-.94-2.06-.94 2.06-2.06.94z\"/><path d=\"M17.41 7.96l-1.37-1.37c-.4-.4-.92-.59-1.43-.59-.52 0-1.04.2-1.43.59L10.3 9.45l-7.72 7.72c-.78.78-.78 2.05 0 2.83L4 21.41c.39.39.9.59 1.41.59.51 0 1.02-.2 1.41-.59l7.78-7.78 2.81-2.81c.8-.78.8-2.07 0-2.86zM5.41 20L4 18.59l7.72-7.72 1.47 1.35L5.41 20z\"/>\n",
              "  </svg>\n",
              "      </button>\n",
              "      \n",
              "  <style>\n",
              "    .colab-df-container {\n",
              "      display:flex;\n",
              "      flex-wrap:wrap;\n",
              "      gap: 12px;\n",
              "    }\n",
              "\n",
              "    .colab-df-convert {\n",
              "      background-color: #E8F0FE;\n",
              "      border: none;\n",
              "      border-radius: 50%;\n",
              "      cursor: pointer;\n",
              "      display: none;\n",
              "      fill: #1967D2;\n",
              "      height: 32px;\n",
              "      padding: 0 0 0 0;\n",
              "      width: 32px;\n",
              "    }\n",
              "\n",
              "    .colab-df-convert:hover {\n",
              "      background-color: #E2EBFA;\n",
              "      box-shadow: 0px 1px 2px rgba(60, 64, 67, 0.3), 0px 1px 3px 1px rgba(60, 64, 67, 0.15);\n",
              "      fill: #174EA6;\n",
              "    }\n",
              "\n",
              "    [theme=dark] .colab-df-convert {\n",
              "      background-color: #3B4455;\n",
              "      fill: #D2E3FC;\n",
              "    }\n",
              "\n",
              "    [theme=dark] .colab-df-convert:hover {\n",
              "      background-color: #434B5C;\n",
              "      box-shadow: 0px 1px 3px 1px rgba(0, 0, 0, 0.15);\n",
              "      filter: drop-shadow(0px 1px 2px rgba(0, 0, 0, 0.3));\n",
              "      fill: #FFFFFF;\n",
              "    }\n",
              "  </style>\n",
              "\n",
              "      <script>\n",
              "        const buttonEl =\n",
              "          document.querySelector('#df-5257c6f6-8b07-4bca-bc11-40b11f5e70d5 button.colab-df-convert');\n",
              "        buttonEl.style.display =\n",
              "          google.colab.kernel.accessAllowed ? 'block' : 'none';\n",
              "\n",
              "        async function convertToInteractive(key) {\n",
              "          const element = document.querySelector('#df-5257c6f6-8b07-4bca-bc11-40b11f5e70d5');\n",
              "          const dataTable =\n",
              "            await google.colab.kernel.invokeFunction('convertToInteractive',\n",
              "                                                     [key], {});\n",
              "          if (!dataTable) return;\n",
              "\n",
              "          const docLinkHtml = 'Like what you see? Visit the ' +\n",
              "            '<a target=\"_blank\" href=https://colab.research.google.com/notebooks/data_table.ipynb>data table notebook</a>'\n",
              "            + ' to learn more about interactive tables.';\n",
              "          element.innerHTML = '';\n",
              "          dataTable['output_type'] = 'display_data';\n",
              "          await google.colab.output.renderOutput(dataTable, element);\n",
              "          const docLink = document.createElement('div');\n",
              "          docLink.innerHTML = docLinkHtml;\n",
              "          element.appendChild(docLink);\n",
              "        }\n",
              "      </script>\n",
              "    </div>\n",
              "  </div>\n",
              "  "
            ]
          },
          "metadata": {},
          "execution_count": 7
        }
      ]
    },
    {
      "cell_type": "code",
      "source": [
        "df.tail()"
      ],
      "metadata": {
        "colab": {
          "base_uri": "https://localhost:8080/",
          "height": 237
        },
        "id": "yMoG0VxtWcdh",
        "outputId": "b4feb9cd-e8f9-4954-eb36-da35160023f3"
      },
      "execution_count": 8,
      "outputs": [
        {
          "output_type": "execute_result",
          "data": {
            "text/plain": [
              "                   Open         High          Low        Close    Adj Close  \\\n",
              "Date                                                                          \n",
              "2022-08-23  1622.939331  1666.676514  1569.428589  1662.769897  1662.769897   \n",
              "2022-08-24  1662.695435  1686.557739  1610.099243  1657.059204  1657.059204   \n",
              "2022-08-25  1657.336548  1718.183228  1656.856079  1696.457031  1696.457031   \n",
              "2022-08-26  1696.324585  1698.561035  1498.771240  1507.782837  1507.782837   \n",
              "2022-08-27  1508.156982  1517.150024  1454.282959  1491.395020  1491.395020   \n",
              "\n",
              "                 Volume  \n",
              "Date                     \n",
              "2022-08-23  18322041914  \n",
              "2022-08-24  16780932907  \n",
              "2022-08-25  14818795695  \n",
              "2022-08-26  26713710143  \n",
              "2022-08-27  18120831899  "
            ],
            "text/html": [
              "\n",
              "  <div id=\"df-60702a3d-917a-476d-8d78-fce8e20ba195\">\n",
              "    <div class=\"colab-df-container\">\n",
              "      <div>\n",
              "<style scoped>\n",
              "    .dataframe tbody tr th:only-of-type {\n",
              "        vertical-align: middle;\n",
              "    }\n",
              "\n",
              "    .dataframe tbody tr th {\n",
              "        vertical-align: top;\n",
              "    }\n",
              "\n",
              "    .dataframe thead th {\n",
              "        text-align: right;\n",
              "    }\n",
              "</style>\n",
              "<table border=\"1\" class=\"dataframe\">\n",
              "  <thead>\n",
              "    <tr style=\"text-align: right;\">\n",
              "      <th></th>\n",
              "      <th>Open</th>\n",
              "      <th>High</th>\n",
              "      <th>Low</th>\n",
              "      <th>Close</th>\n",
              "      <th>Adj Close</th>\n",
              "      <th>Volume</th>\n",
              "    </tr>\n",
              "    <tr>\n",
              "      <th>Date</th>\n",
              "      <th></th>\n",
              "      <th></th>\n",
              "      <th></th>\n",
              "      <th></th>\n",
              "      <th></th>\n",
              "      <th></th>\n",
              "    </tr>\n",
              "  </thead>\n",
              "  <tbody>\n",
              "    <tr>\n",
              "      <th>2022-08-23</th>\n",
              "      <td>1622.939331</td>\n",
              "      <td>1666.676514</td>\n",
              "      <td>1569.428589</td>\n",
              "      <td>1662.769897</td>\n",
              "      <td>1662.769897</td>\n",
              "      <td>18322041914</td>\n",
              "    </tr>\n",
              "    <tr>\n",
              "      <th>2022-08-24</th>\n",
              "      <td>1662.695435</td>\n",
              "      <td>1686.557739</td>\n",
              "      <td>1610.099243</td>\n",
              "      <td>1657.059204</td>\n",
              "      <td>1657.059204</td>\n",
              "      <td>16780932907</td>\n",
              "    </tr>\n",
              "    <tr>\n",
              "      <th>2022-08-25</th>\n",
              "      <td>1657.336548</td>\n",
              "      <td>1718.183228</td>\n",
              "      <td>1656.856079</td>\n",
              "      <td>1696.457031</td>\n",
              "      <td>1696.457031</td>\n",
              "      <td>14818795695</td>\n",
              "    </tr>\n",
              "    <tr>\n",
              "      <th>2022-08-26</th>\n",
              "      <td>1696.324585</td>\n",
              "      <td>1698.561035</td>\n",
              "      <td>1498.771240</td>\n",
              "      <td>1507.782837</td>\n",
              "      <td>1507.782837</td>\n",
              "      <td>26713710143</td>\n",
              "    </tr>\n",
              "    <tr>\n",
              "      <th>2022-08-27</th>\n",
              "      <td>1508.156982</td>\n",
              "      <td>1517.150024</td>\n",
              "      <td>1454.282959</td>\n",
              "      <td>1491.395020</td>\n",
              "      <td>1491.395020</td>\n",
              "      <td>18120831899</td>\n",
              "    </tr>\n",
              "  </tbody>\n",
              "</table>\n",
              "</div>\n",
              "      <button class=\"colab-df-convert\" onclick=\"convertToInteractive('df-60702a3d-917a-476d-8d78-fce8e20ba195')\"\n",
              "              title=\"Convert this dataframe to an interactive table.\"\n",
              "              style=\"display:none;\">\n",
              "        \n",
              "  <svg xmlns=\"http://www.w3.org/2000/svg\" height=\"24px\"viewBox=\"0 0 24 24\"\n",
              "       width=\"24px\">\n",
              "    <path d=\"M0 0h24v24H0V0z\" fill=\"none\"/>\n",
              "    <path d=\"M18.56 5.44l.94 2.06.94-2.06 2.06-.94-2.06-.94-.94-2.06-.94 2.06-2.06.94zm-11 1L8.5 8.5l.94-2.06 2.06-.94-2.06-.94L8.5 2.5l-.94 2.06-2.06.94zm10 10l.94 2.06.94-2.06 2.06-.94-2.06-.94-.94-2.06-.94 2.06-2.06.94z\"/><path d=\"M17.41 7.96l-1.37-1.37c-.4-.4-.92-.59-1.43-.59-.52 0-1.04.2-1.43.59L10.3 9.45l-7.72 7.72c-.78.78-.78 2.05 0 2.83L4 21.41c.39.39.9.59 1.41.59.51 0 1.02-.2 1.41-.59l7.78-7.78 2.81-2.81c.8-.78.8-2.07 0-2.86zM5.41 20L4 18.59l7.72-7.72 1.47 1.35L5.41 20z\"/>\n",
              "  </svg>\n",
              "      </button>\n",
              "      \n",
              "  <style>\n",
              "    .colab-df-container {\n",
              "      display:flex;\n",
              "      flex-wrap:wrap;\n",
              "      gap: 12px;\n",
              "    }\n",
              "\n",
              "    .colab-df-convert {\n",
              "      background-color: #E8F0FE;\n",
              "      border: none;\n",
              "      border-radius: 50%;\n",
              "      cursor: pointer;\n",
              "      display: none;\n",
              "      fill: #1967D2;\n",
              "      height: 32px;\n",
              "      padding: 0 0 0 0;\n",
              "      width: 32px;\n",
              "    }\n",
              "\n",
              "    .colab-df-convert:hover {\n",
              "      background-color: #E2EBFA;\n",
              "      box-shadow: 0px 1px 2px rgba(60, 64, 67, 0.3), 0px 1px 3px 1px rgba(60, 64, 67, 0.15);\n",
              "      fill: #174EA6;\n",
              "    }\n",
              "\n",
              "    [theme=dark] .colab-df-convert {\n",
              "      background-color: #3B4455;\n",
              "      fill: #D2E3FC;\n",
              "    }\n",
              "\n",
              "    [theme=dark] .colab-df-convert:hover {\n",
              "      background-color: #434B5C;\n",
              "      box-shadow: 0px 1px 3px 1px rgba(0, 0, 0, 0.15);\n",
              "      filter: drop-shadow(0px 1px 2px rgba(0, 0, 0, 0.3));\n",
              "      fill: #FFFFFF;\n",
              "    }\n",
              "  </style>\n",
              "\n",
              "      <script>\n",
              "        const buttonEl =\n",
              "          document.querySelector('#df-60702a3d-917a-476d-8d78-fce8e20ba195 button.colab-df-convert');\n",
              "        buttonEl.style.display =\n",
              "          google.colab.kernel.accessAllowed ? 'block' : 'none';\n",
              "\n",
              "        async function convertToInteractive(key) {\n",
              "          const element = document.querySelector('#df-60702a3d-917a-476d-8d78-fce8e20ba195');\n",
              "          const dataTable =\n",
              "            await google.colab.kernel.invokeFunction('convertToInteractive',\n",
              "                                                     [key], {});\n",
              "          if (!dataTable) return;\n",
              "\n",
              "          const docLinkHtml = 'Like what you see? Visit the ' +\n",
              "            '<a target=\"_blank\" href=https://colab.research.google.com/notebooks/data_table.ipynb>data table notebook</a>'\n",
              "            + ' to learn more about interactive tables.';\n",
              "          element.innerHTML = '';\n",
              "          dataTable['output_type'] = 'display_data';\n",
              "          await google.colab.output.renderOutput(dataTable, element);\n",
              "          const docLink = document.createElement('div');\n",
              "          docLink.innerHTML = docLinkHtml;\n",
              "          element.appendChild(docLink);\n",
              "        }\n",
              "      </script>\n",
              "    </div>\n",
              "  </div>\n",
              "  "
            ]
          },
          "metadata": {},
          "execution_count": 8
        }
      ]
    },
    {
      "cell_type": "code",
      "source": [
        "len(df)"
      ],
      "metadata": {
        "colab": {
          "base_uri": "https://localhost:8080/"
        },
        "id": "znrrLEqxBFvo",
        "outputId": "7fda16dd-961d-440d-d3f7-7449c33afd40"
      },
      "execution_count": 9,
      "outputs": [
        {
          "output_type": "execute_result",
          "data": {
            "text/plain": [
              "1753"
            ]
          },
          "metadata": {},
          "execution_count": 9
        }
      ]
    },
    {
      "cell_type": "markdown",
      "source": [
        "Lets only consider the closing price for each day."
      ],
      "metadata": {
        "id": "e0xkvtbyTAGv"
      }
    },
    {
      "cell_type": "code",
      "source": [
        "ethereum_prices = pd.DataFrame(df[\"Close\"]).rename(columns={\"Close\": \"Price\"})\n",
        "ethereum_prices.head()"
      ],
      "metadata": {
        "colab": {
          "base_uri": "https://localhost:8080/",
          "height": 237
        },
        "id": "xlao_RzqSnmi",
        "outputId": "6671df0c-342a-404e-ce47-5ae31d7fa642"
      },
      "execution_count": 10,
      "outputs": [
        {
          "output_type": "execute_result",
          "data": {
            "text/plain": [
              "                 Price\n",
              "Date                  \n",
              "2017-11-09  320.884003\n",
              "2017-11-10  299.252991\n",
              "2017-11-11  314.681000\n",
              "2017-11-12  307.907990\n",
              "2017-11-13  316.716003"
            ],
            "text/html": [
              "\n",
              "  <div id=\"df-53d854ad-5d86-4efd-ba80-20ac7b095e7c\">\n",
              "    <div class=\"colab-df-container\">\n",
              "      <div>\n",
              "<style scoped>\n",
              "    .dataframe tbody tr th:only-of-type {\n",
              "        vertical-align: middle;\n",
              "    }\n",
              "\n",
              "    .dataframe tbody tr th {\n",
              "        vertical-align: top;\n",
              "    }\n",
              "\n",
              "    .dataframe thead th {\n",
              "        text-align: right;\n",
              "    }\n",
              "</style>\n",
              "<table border=\"1\" class=\"dataframe\">\n",
              "  <thead>\n",
              "    <tr style=\"text-align: right;\">\n",
              "      <th></th>\n",
              "      <th>Price</th>\n",
              "    </tr>\n",
              "    <tr>\n",
              "      <th>Date</th>\n",
              "      <th></th>\n",
              "    </tr>\n",
              "  </thead>\n",
              "  <tbody>\n",
              "    <tr>\n",
              "      <th>2017-11-09</th>\n",
              "      <td>320.884003</td>\n",
              "    </tr>\n",
              "    <tr>\n",
              "      <th>2017-11-10</th>\n",
              "      <td>299.252991</td>\n",
              "    </tr>\n",
              "    <tr>\n",
              "      <th>2017-11-11</th>\n",
              "      <td>314.681000</td>\n",
              "    </tr>\n",
              "    <tr>\n",
              "      <th>2017-11-12</th>\n",
              "      <td>307.907990</td>\n",
              "    </tr>\n",
              "    <tr>\n",
              "      <th>2017-11-13</th>\n",
              "      <td>316.716003</td>\n",
              "    </tr>\n",
              "  </tbody>\n",
              "</table>\n",
              "</div>\n",
              "      <button class=\"colab-df-convert\" onclick=\"convertToInteractive('df-53d854ad-5d86-4efd-ba80-20ac7b095e7c')\"\n",
              "              title=\"Convert this dataframe to an interactive table.\"\n",
              "              style=\"display:none;\">\n",
              "        \n",
              "  <svg xmlns=\"http://www.w3.org/2000/svg\" height=\"24px\"viewBox=\"0 0 24 24\"\n",
              "       width=\"24px\">\n",
              "    <path d=\"M0 0h24v24H0V0z\" fill=\"none\"/>\n",
              "    <path d=\"M18.56 5.44l.94 2.06.94-2.06 2.06-.94-2.06-.94-.94-2.06-.94 2.06-2.06.94zm-11 1L8.5 8.5l.94-2.06 2.06-.94-2.06-.94L8.5 2.5l-.94 2.06-2.06.94zm10 10l.94 2.06.94-2.06 2.06-.94-2.06-.94-.94-2.06-.94 2.06-2.06.94z\"/><path d=\"M17.41 7.96l-1.37-1.37c-.4-.4-.92-.59-1.43-.59-.52 0-1.04.2-1.43.59L10.3 9.45l-7.72 7.72c-.78.78-.78 2.05 0 2.83L4 21.41c.39.39.9.59 1.41.59.51 0 1.02-.2 1.41-.59l7.78-7.78 2.81-2.81c.8-.78.8-2.07 0-2.86zM5.41 20L4 18.59l7.72-7.72 1.47 1.35L5.41 20z\"/>\n",
              "  </svg>\n",
              "      </button>\n",
              "      \n",
              "  <style>\n",
              "    .colab-df-container {\n",
              "      display:flex;\n",
              "      flex-wrap:wrap;\n",
              "      gap: 12px;\n",
              "    }\n",
              "\n",
              "    .colab-df-convert {\n",
              "      background-color: #E8F0FE;\n",
              "      border: none;\n",
              "      border-radius: 50%;\n",
              "      cursor: pointer;\n",
              "      display: none;\n",
              "      fill: #1967D2;\n",
              "      height: 32px;\n",
              "      padding: 0 0 0 0;\n",
              "      width: 32px;\n",
              "    }\n",
              "\n",
              "    .colab-df-convert:hover {\n",
              "      background-color: #E2EBFA;\n",
              "      box-shadow: 0px 1px 2px rgba(60, 64, 67, 0.3), 0px 1px 3px 1px rgba(60, 64, 67, 0.15);\n",
              "      fill: #174EA6;\n",
              "    }\n",
              "\n",
              "    [theme=dark] .colab-df-convert {\n",
              "      background-color: #3B4455;\n",
              "      fill: #D2E3FC;\n",
              "    }\n",
              "\n",
              "    [theme=dark] .colab-df-convert:hover {\n",
              "      background-color: #434B5C;\n",
              "      box-shadow: 0px 1px 3px 1px rgba(0, 0, 0, 0.15);\n",
              "      filter: drop-shadow(0px 1px 2px rgba(0, 0, 0, 0.3));\n",
              "      fill: #FFFFFF;\n",
              "    }\n",
              "  </style>\n",
              "\n",
              "      <script>\n",
              "        const buttonEl =\n",
              "          document.querySelector('#df-53d854ad-5d86-4efd-ba80-20ac7b095e7c button.colab-df-convert');\n",
              "        buttonEl.style.display =\n",
              "          google.colab.kernel.accessAllowed ? 'block' : 'none';\n",
              "\n",
              "        async function convertToInteractive(key) {\n",
              "          const element = document.querySelector('#df-53d854ad-5d86-4efd-ba80-20ac7b095e7c');\n",
              "          const dataTable =\n",
              "            await google.colab.kernel.invokeFunction('convertToInteractive',\n",
              "                                                     [key], {});\n",
              "          if (!dataTable) return;\n",
              "\n",
              "          const docLinkHtml = 'Like what you see? Visit the ' +\n",
              "            '<a target=\"_blank\" href=https://colab.research.google.com/notebooks/data_table.ipynb>data table notebook</a>'\n",
              "            + ' to learn more about interactive tables.';\n",
              "          element.innerHTML = '';\n",
              "          dataTable['output_type'] = 'display_data';\n",
              "          await google.colab.output.renderOutput(dataTable, element);\n",
              "          const docLink = document.createElement('div');\n",
              "          docLink.innerHTML = docLinkHtml;\n",
              "          element.appendChild(docLink);\n",
              "        }\n",
              "      </script>\n",
              "    </div>\n",
              "  </div>\n",
              "  "
            ]
          },
          "metadata": {},
          "execution_count": 10
        }
      ]
    },
    {
      "cell_type": "code",
      "source": [
        "import matplotlib.pyplot as plt\n",
        "ethereum_prices.plot(figsize=(10, 7))\n",
        "plt.ylabel(\"ETH Price\")\n",
        "plt.title(\"Historical Price Of Ethereum \", fontsize=16)\n",
        "plt.legend(fontsize=14);"
      ],
      "metadata": {
        "colab": {
          "base_uri": "https://localhost:8080/",
          "height": 460
        },
        "id": "bhY822T5SySL",
        "outputId": "79d7f928-a9bd-46a0-f733-f19011fee1e5"
      },
      "execution_count": 11,
      "outputs": [
        {
          "output_type": "display_data",
          "data": {
            "text/plain": [
              "<Figure size 720x504 with 1 Axes>"
            ],
            "image/png": "[encoded data removed]"
          },
          "metadata": {
            "needs_background": "light"
          }
        }
      ]
    },
    {
      "cell_type": "markdown",
      "source": [
        "Using the scikit learn's train_test_split() function would give us a split which is random in which data from the psuedo future may be included in the train dataset.\n",
        "\n",
        "Hence we'd use indexing to make the train-test split."
      ],
      "metadata": {
        "id": "s39EpCEtTYjy"
      }
    },
    {
      "cell_type": "code",
      "source": [
        "timesteps = ethereum_prices.index.to_numpy()\n",
        "prices = ethereum_prices[\"Price\"].to_numpy()"
      ],
      "metadata": {
        "id": "S0pl5xswUl1R"
      },
      "execution_count": 13,
      "outputs": []
    },
    {
      "cell_type": "code",
      "source": [
        "timesteps[:10] , prices[:10]"
      ],
      "metadata": {
        "colab": {
          "base_uri": "https://localhost:8080/"
        },
        "id": "ZK3oa8HKVFVT",
        "outputId": "0d68410b-3425-48af-f6ce-51208f1a119d"
      },
      "execution_count": 14,
      "outputs": [
        {
          "output_type": "execute_result",
          "data": {
            "text/plain": [
              "(array(['2017-11-09T00:00:00.000000000', '2017-11-10T00:00:00.000000000',\n",
              "        '2017-11-11T00:00:00.000000000', '2017-11-12T00:00:00.000000000',\n",
              "        '2017-11-13T00:00:00.000000000', '2017-11-14T00:00:00.000000000',\n",
              "        '2017-11-15T00:00:00.000000000', '2017-11-16T00:00:00.000000000',\n",
              "        '2017-11-17T00:00:00.000000000', '2017-11-18T00:00:00.000000000'],\n",
              "       dtype='datetime64[ns]'),\n",
              " array([320.884003, 299.252991, 314.681   , 307.90799 , 316.716003,\n",
              "        337.631012, 333.356995, 330.924011, 332.394012, 347.612   ]))"
            ]
          },
          "metadata": {},
          "execution_count": 14
        }
      ]
    },
    {
      "cell_type": "code",
      "source": [
        "split_size=int(0.8 * len(prices))\n",
        "\n",
        "X_train,y_train=timesteps[:split_size],prices[:split_size]\n",
        "\n",
        "X_test,y_test=timesteps[split_size:],prices[split_size:]"
      ],
      "metadata": {
        "id": "BwsuqNqzWeZM"
      },
      "execution_count": 15,
      "outputs": []
    },
    {
      "cell_type": "code",
      "source": [
        "len(X_train), len(X_test)"
      ],
      "metadata": {
        "colab": {
          "base_uri": "https://localhost:8080/"
        },
        "id": "OYuuW6sPXTEs",
        "outputId": "a513e675-cc6c-408f-852d-04b5ec5f9dd0"
      },
      "execution_count": 16,
      "outputs": [
        {
          "output_type": "execute_result",
          "data": {
            "text/plain": [
              "(1402, 351)"
            ]
          },
          "metadata": {},
          "execution_count": 16
        }
      ]
    },
    {
      "cell_type": "code",
      "source": [
        "y_train"
      ],
      "metadata": {
        "colab": {
          "base_uri": "https://localhost:8080/"
        },
        "id": "aTJeKG62XXdq",
        "outputId": "3b907368-33c4-4f71-89a5-b8f37a5e3381"
      },
      "execution_count": 17,
      "outputs": [
        {
          "output_type": "execute_result",
          "data": {
            "text/plain": [
              "array([ 320.884003,  299.252991,  314.681   , ..., 3497.315186,\n",
              "       3427.340088, 3211.505859])"
            ]
          },
          "metadata": {},
          "execution_count": 17
        }
      ]
    },
    {
      "cell_type": "markdown",
      "source": [
        "Visviualising the train and test set:"
      ],
      "metadata": {
        "id": "2wn3zHcoYQE7"
      }
    },
    {
      "cell_type": "code",
      "source": [
        "plt.figure(figsize=(10,7))\n",
        "plt.scatter(X_train,y_train,s=5,label=\"Train_data\")\n",
        "plt.scatter(X_test,y_test,s=5,label=\"Test_data\")\n",
        "plt.xlabel(\"Date\")\n",
        "plt.ylabel(\"ETH Prices\")\n",
        "plt.legend()\n",
        "plt.show()"
      ],
      "metadata": {
        "colab": {
          "base_uri": "https://localhost:8080/",
          "height": 443
        },
        "id": "Vhwy5ZlHXbvy",
        "outputId": "3cf52a2f-922d-4a75-96f3-289580447fb3"
      },
      "execution_count": 18,
      "outputs": [
        {
          "output_type": "display_data",
          "data": {
            "text/plain": [
              "<Figure size 720x504 with 1 Axes>"
            ],
            "image/png": "[encoded data removed]"
          },
          "metadata": {
            "needs_background": "light"
          }
        }
      ]
    },
    {
      "cell_type": "markdown",
      "source": [
        "**Horizon** = number of timesteps to predict into future\n",
        "\n",
        "**Window** = number of timesteps from past used to predict horizon"
      ],
      "metadata": {
        "id": "71rPSIf_YEK2"
      }
    },
    {
      "cell_type": "markdown",
      "source": [
        "Let's create a basline model, we'd build a **Naive model** for this,\n",
        "It is a fairly simple model, with the model using the previous timestep value to predict the next timestep value.\n",
        "\n",
        "It looks like this:\n",
        "\n",
        "![image.png](data:image/png;base64,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)\n",
        "\n",
        "\n"
      ],
      "metadata": {
        "id": "9sNcP-vNYxqi"
      }
    },
    {
      "cell_type": "markdown",
      "source": [
        "## **Naïve forecast (baseline)**"
      ],
      "metadata": {
        "id": "qm4Qlnj73ESf"
      }
    },
    {
      "cell_type": "code",
      "source": [
        "naive_forecast = y_test[:-1]"
      ],
      "metadata": {
        "id": "YwFB6DSc3mCP"
      },
      "execution_count": 19,
      "outputs": []
    },
    {
      "cell_type": "code",
      "source": [
        "naive_forecast[:10], naive_forecast[-10:]"
      ],
      "metadata": {
        "colab": {
          "base_uri": "https://localhost:8080/"
        },
        "id": "O0IRrogyvL2k",
        "outputId": "d0958983-1ccb-41fb-b2ef-c1476bc2aa7b"
      },
      "execution_count": 20,
      "outputs": [
        {
          "output_type": "execute_result",
          "data": {
            "text/plain": [
              "(array([3270.278076, 3410.134521, 3285.511719, 3429.169678, 3615.282715,\n",
              "        3571.294922, 3398.538818, 3432.018311, 3329.447998, 2958.993408]),\n",
              " array([1832.999634, 1847.007813, 1612.987305, 1577.003784, 1619.31897 ,\n",
              "        1622.505859, 1662.769897, 1657.059204, 1696.457031, 1507.782837]))"
            ]
          },
          "metadata": {},
          "execution_count": 20
        }
      ]
    },
    {
      "cell_type": "code",
      "source": [
        "y_test[:10]"
      ],
      "metadata": {
        "id": "Yw4eVB7RY9q5",
        "colab": {
          "base_uri": "https://localhost:8080/"
        },
        "outputId": "a3f315a2-1291-4dab-d9cf-835a98673d3b"
      },
      "execution_count": 21,
      "outputs": [
        {
          "output_type": "execute_result",
          "data": {
            "text/plain": [
              "array([3270.278076, 3410.134521, 3285.511719, 3429.169678, 3615.282715,\n",
              "       3571.294922, 3398.538818, 3432.018311, 3329.447998, 2958.993408])"
            ]
          },
          "metadata": {},
          "execution_count": 21
        }
      ]
    },
    {
      "cell_type": "code",
      "source": [
        "def plot_time_series(timesteps,values,start=0,end=None,label=None,format='.'):\n",
        "  plt.plot(timesteps[start:end],values[start:end],format,label=label)\n",
        "  plt.xlabel(\"Time\")\n",
        "  plt.ylabel(\"ETH price\")\n",
        "  if label:\n",
        "    plt.legend(fontsize=14)\n",
        "  plt.grid(True)"
      ],
      "metadata": {
        "id": "bZji9k5WNx-2"
      },
      "execution_count": 22,
      "outputs": []
    },
    {
      "cell_type": "code",
      "source": [
        "#Plotting the Naive forecast:\n",
        "\n",
        "plt.figure(figsize=(15,10))\n",
        "plot_time_series(timesteps=X_train,values=y_train,label=\"Train data\")\n",
        "plot_time_series(timesteps=X_test,values=y_test,label=\"Test data\")\n",
        "plot_time_series(timesteps=X_test[1:],values=naive_forecast,format='-',label='Naive Forecast')"
      ],
      "metadata": {
        "colab": {
          "base_uri": "https://localhost:8080/",
          "height": 606
        },
        "id": "_9VLeNJOOdbx",
        "outputId": "e028906f-71a8-4da4-bd66-c98f7ffbc282"
      },
      "execution_count": 23,
      "outputs": [
        {
          "output_type": "display_data",
          "data": {
            "text/plain": [
              "<Figure size 1080x720 with 1 Axes>"
            ],
            "image/png": "[encoded data removed]"
          },
          "metadata": {
            "needs_background": "light"
          }
        }
      ]
    },
    {
      "cell_type": "code",
      "source": [
        "def evaluate_preds(y_true, y_pred):\n",
        "  \n",
        "  y_true = tf.cast(y_true, dtype=tf.float32)\n",
        "  y_pred = tf.cast(y_pred, dtype=tf.float32)\n",
        " \n",
        "  \n",
        "  mae = tf.keras.metrics.mean_absolute_error(y_true, y_pred)\n",
        "  mse = tf.keras.metrics.mean_squared_error(y_true, y_pred) \n",
        "  rmse = tf.sqrt(mse)\n",
        "  mape = tf.keras.metrics.mean_absolute_percentage_error(y_true, y_pred)\n",
        "  \n",
        "  \n",
        "  return {\"mae\": mae.numpy(),\n",
        "          \"mse\": mse.numpy(),\n",
        "          \"rmse\": rmse.numpy(),\n",
        "          \"mape\": mape.numpy()\n",
        "          }"
      ],
      "metadata": {
        "id": "UU-FQBIoPgB_"
      },
      "execution_count": 24,
      "outputs": []
    },
    {
      "cell_type": "code",
      "source": [
        "naive_results = evaluate_preds(y_true=y_test[1:],\n",
        "                               y_pred=naive_forecast)\n",
        "naive_results"
      ],
      "metadata": {
        "id": "HGGUQtUhusG0",
        "colab": {
          "base_uri": "https://localhost:8080/"
        },
        "outputId": "12e6fe02-8551-4953-a994-68610c8dfe0d"
      },
      "execution_count": 25,
      "outputs": [
        {
          "output_type": "execute_result",
          "data": {
            "text/plain": [
              "{'mae': 91.56533, 'mse': 14612.331, 'rmse': 120.88148, 'mape': 3.427295}"
            ]
          },
          "metadata": {},
          "execution_count": 25
        }
      ]
    },
    {
      "cell_type": "markdown",
      "source": [
        "### **DENSE MODEL**\n",
        "\n",
        "The following model is a simple Dense mode, model_Dense will have:\n",
        "\n",
        "*   A single dense layer with 128 hidden units and ReLU (rectified linear unit) activation\n",
        "*   An output layer with linear activation\n",
        "*   Adam optimizer and MAE loss function\n",
        "*   Batch size of 128\n",
        "*   100 epochs\n",
        "\n",
        "\n",
        "\n",
        "\n",
        "\n"
      ],
      "metadata": {
        "id": "yUcf9_AwxDqs"
      }
    },
    {
      "cell_type": "markdown",
      "source": [
        "##### horizon = number of timesteps to predict into future\n",
        "##### window = number of timesteps from past used to predict horizon"
      ],
      "metadata": {
        "id": "lLb7GvZpUOv-"
      }
    },
    {
      "cell_type": "code",
      "source": [
        "HORIZON = 1\n",
        "WINDOW_SIZE = 7 \n"
      ],
      "metadata": {
        "id": "KIO8QYZSuz29"
      },
      "execution_count": 27,
      "outputs": []
    },
    {
      "cell_type": "markdown",
      "source": [
        "The following function takes in an array and turn it into a window and horizon"
      ],
      "metadata": {
        "id": "RBqulDj7UDRd"
      }
    },
    {
      "cell_type": "code",
      "source": [
        "def get_labelled_windows(x, horizon=1):\n",
        "  return x[:, :-horizon], x[:, -horizon:]"
      ],
      "metadata": {
        "id": "5sArU_dYxDB7"
      },
      "execution_count": 28,
      "outputs": []
    },
    {
      "cell_type": "markdown",
      "source": [
        "The following function turns a 1D array into a 2D array of sequential windows of window_size."
      ],
      "metadata": {
        "id": "hWuLw9GpT7N8"
      }
    },
    {
      "cell_type": "code",
      "source": [
        "def make_windows(x, window_size=7, horizon=1):\n",
        "  \n",
        "  window_step = np.expand_dims(np.arange(window_size+horizon), axis=0)\n",
        "  \n",
        "  window_indexes = window_step + np.expand_dims(np.arange(len(x)-(window_size+horizon-1)), axis=0).T \n",
        " \n",
        "  windowed_array = x[window_indexes]\n",
        "\n",
        "  windows, labels = get_labelled_windows(windowed_array, horizon=horizon)\n",
        "\n",
        "  return windows, labels"
      ],
      "metadata": {
        "id": "JmB-KxRuxJad"
      },
      "execution_count": 29,
      "outputs": []
    },
    {
      "cell_type": "code",
      "source": [
        "full_windows, full_labels = make_windows(prices, window_size=WINDOW_SIZE, horizon=HORIZON)"
      ],
      "metadata": {
        "id": "0Ou5KYk7Oxoc"
      },
      "execution_count": 30,
      "outputs": []
    },
    {
      "cell_type": "code",
      "source": [
        "len(full_windows),len(full_labels)"
      ],
      "metadata": {
        "colab": {
          "base_uri": "https://localhost:8080/"
        },
        "id": "Osiwxuk4QECG",
        "outputId": "77d11628-ad01-4c08-c75d-ff61c01f8059"
      },
      "execution_count": 31,
      "outputs": [
        {
          "output_type": "execute_result",
          "data": {
            "text/plain": [
              "(1746, 1746)"
            ]
          },
          "metadata": {},
          "execution_count": 31
        }
      ]
    },
    {
      "cell_type": "code",
      "source": [
        "def make_train_test_splits(windows,labels,test_split=0.2):\n",
        "  split_size=int(len(windows)*(1-test_split))\n",
        "  train_windows=windows[:split_size]\n",
        "  train_labels=labels[:split_size]\n",
        "  test_windows=windows[split_size:]\n",
        "  test_labels=labels[split_size:]\n",
        "\n",
        "  return train_windows,test_windows,train_labels,test_labels\n"
      ],
      "metadata": {
        "id": "OOfozuIERBwl"
      },
      "execution_count": 63,
      "outputs": []
    },
    {
      "cell_type": "code",
      "source": [
        "train_windows, test_windows, train_labels, test_labels = make_train_test_splits(full_windows, full_labels)\n",
        "len(train_windows), len(test_windows), len(train_labels), len(test_labels)"
      ],
      "metadata": {
        "colab": {
          "base_uri": "https://localhost:8080/"
        },
        "id": "p1S8O7a3S42P",
        "outputId": "8e8c901d-6458-43a6-c665-0a83fde1090f"
      },
      "execution_count": 67,
      "outputs": [
        {
          "output_type": "execute_result",
          "data": {
            "text/plain": [
              "(1396, 350, 1396, 350)"
            ]
          },
          "metadata": {},
          "execution_count": 67
        }
      ]
    },
    {
      "cell_type": "code",
      "source": [
        "from tensorflow.keras.layers import Dense\n"
      ],
      "metadata": {
        "id": "okNOODdZTAEu"
      },
      "execution_count": 68,
      "outputs": []
    },
    {
      "cell_type": "code",
      "source": [
        "tf.random.set_seed(42)\n",
        "\n",
        "model_Dense=tf.keras.Sequential([\n",
        "    Dense(128,activation='relu'),\n",
        "    Dense(HORIZON)  \n",
        "])\n",
        "\n",
        "model_Dense.compile(loss='mae',\n",
        "                    optimizer=tf.keras.optimizers.Adam(),\n",
        "                    metrics=['mae']\n",
        "                    )\n",
        "\n",
        "model_Dense.fit(x=train_windows,\n",
        "                y=train_labels,\n",
        "                epochs=100,\n",
        "                verbose=1,\n",
        "                batch_size=128,\n",
        "                validation_data=(test_windows,test_labels),\n",
        "                )"
      ],
      "metadata": {
        "colab": {
          "base_uri": "https://localhost:8080/"
        },
        "id": "04Dp49LGUsbI",
        "outputId": "23969293-d70b-4ecb-e6d6-868e21fa938e"
      },
      "execution_count": 69,
      "outputs": [
        {
          "output_type": "stream",
          "name": "stdout",
          "text": [
            "Epoch 1/100\n",
            "11/11 [==============================] - 0s 16ms/step - loss: 226.9808 - mae: 226.9808 - val_loss: 170.8192 - val_mae: 170.8192\n",
            "Epoch 2/100\n",
            "11/11 [==============================] - 0s 4ms/step - loss: 83.5597 - mae: 83.5597 - val_loss: 251.3779 - val_mae: 251.3779\n",
            "Epoch 3/100\n",
            "11/11 [==============================] - 0s 4ms/step - loss: 60.3860 - mae: 60.3860 - val_loss: 170.7533 - val_mae: 170.7533\n",
            "Epoch 4/100\n",
            "11/11 [==============================] - 0s 4ms/step - loss: 53.7358 - mae: 53.7358 - val_loss: 189.3169 - val_mae: 189.3169\n",
            "Epoch 5/100\n",
            "11/11 [==============================] - 0s 4ms/step - loss: 48.9401 - mae: 48.9401 - val_loss: 141.2111 - val_mae: 141.2111\n",
            "Epoch 6/100\n",
            "11/11 [==============================] - 0s 4ms/step - loss: 47.3962 - mae: 47.3962 - val_loss: 139.1361 - val_mae: 139.1361\n",
            "Epoch 7/100\n",
            "11/11 [==============================] - 0s 4ms/step - loss: 45.6305 - mae: 45.6305 - val_loss: 156.5131 - val_mae: 156.5131\n",
            "Epoch 8/100\n",
            "11/11 [==============================] - 0s 5ms/step - loss: 45.1061 - mae: 45.1061 - val_loss: 130.2314 - val_mae: 130.2314\n",
            "Epoch 9/100\n",
            "11/11 [==============================] - 0s 4ms/step - loss: 43.0364 - mae: 43.0364 - val_loss: 127.6047 - val_mae: 127.6047\n",
            "Epoch 10/100\n",
            "11/11 [==============================] - 0s 4ms/step - loss: 42.1611 - mae: 42.1611 - val_loss: 122.8238 - val_mae: 122.8238\n",
            "Epoch 11/100\n",
            "11/11 [==============================] - 0s 6ms/step - loss: 41.8047 - mae: 41.8047 - val_loss: 130.8486 - val_mae: 130.8486\n",
            "Epoch 12/100\n",
            "11/11 [==============================] - 0s 4ms/step - loss: 41.0012 - mae: 41.0012 - val_loss: 156.4533 - val_mae: 156.4533\n",
            "Epoch 13/100\n",
            "11/11 [==============================] - 0s 4ms/step - loss: 41.2303 - mae: 41.2303 - val_loss: 122.2236 - val_mae: 122.2236\n",
            "Epoch 14/100\n",
            "11/11 [==============================] - 0s 4ms/step - loss: 39.3969 - mae: 39.3969 - val_loss: 115.6588 - val_mae: 115.6588\n",
            "Epoch 15/100\n",
            "11/11 [==============================] - 0s 4ms/step - loss: 38.1849 - mae: 38.1849 - val_loss: 114.8106 - val_mae: 114.8106\n",
            "Epoch 16/100\n",
            "11/11 [==============================] - 0s 4ms/step - loss: 37.7462 - mae: 37.7462 - val_loss: 113.3061 - val_mae: 113.3061\n",
            "Epoch 17/100\n",
            "11/11 [==============================] - 0s 4ms/step - loss: 36.8553 - mae: 36.8553 - val_loss: 114.5146 - val_mae: 114.5146\n",
            "Epoch 18/100\n",
            "11/11 [==============================] - 0s 4ms/step - loss: 36.1945 - mae: 36.1945 - val_loss: 113.3318 - val_mae: 113.3318\n",
            "Epoch 19/100\n",
            "11/11 [==============================] - 0s 4ms/step - loss: 35.8895 - mae: 35.8895 - val_loss: 110.6612 - val_mae: 110.6612\n",
            "Epoch 20/100\n",
            "11/11 [==============================] - 0s 4ms/step - loss: 35.6430 - mae: 35.6430 - val_loss: 110.1751 - val_mae: 110.1751\n",
            "Epoch 21/100\n",
            "11/11 [==============================] - 0s 4ms/step - loss: 34.8870 - mae: 34.8870 - val_loss: 108.5661 - val_mae: 108.5661\n",
            "Epoch 22/100\n",
            "11/11 [==============================] - 0s 6ms/step - loss: 34.3030 - mae: 34.3030 - val_loss: 115.7927 - val_mae: 115.7927\n",
            "Epoch 23/100\n",
            "11/11 [==============================] - 0s 4ms/step - loss: 33.9216 - mae: 33.9216 - val_loss: 111.4047 - val_mae: 111.4047\n",
            "Epoch 24/100\n",
            "11/11 [==============================] - 0s 6ms/step - loss: 33.7073 - mae: 33.7073 - val_loss: 124.2976 - val_mae: 124.2976\n",
            "Epoch 25/100\n",
            "11/11 [==============================] - 0s 4ms/step - loss: 34.1786 - mae: 34.1786 - val_loss: 116.5170 - val_mae: 116.5170\n",
            "Epoch 26/100\n",
            "11/11 [==============================] - 0s 6ms/step - loss: 33.7339 - mae: 33.7339 - val_loss: 109.6380 - val_mae: 109.6380\n",
            "Epoch 27/100\n",
            "11/11 [==============================] - 0s 4ms/step - loss: 32.7761 - mae: 32.7761 - val_loss: 110.5628 - val_mae: 110.5628\n",
            "Epoch 28/100\n",
            "11/11 [==============================] - 0s 4ms/step - loss: 33.4300 - mae: 33.4300 - val_loss: 111.2362 - val_mae: 111.2362\n",
            "Epoch 29/100\n",
            "11/11 [==============================] - 0s 4ms/step - loss: 32.6927 - mae: 32.6927 - val_loss: 107.0381 - val_mae: 107.0381\n",
            "Epoch 30/100\n",
            "11/11 [==============================] - 0s 5ms/step - loss: 32.2168 - mae: 32.2168 - val_loss: 108.8855 - val_mae: 108.8855\n",
            "Epoch 31/100\n",
            "11/11 [==============================] - 0s 4ms/step - loss: 32.0590 - mae: 32.0590 - val_loss: 101.4140 - val_mae: 101.4140\n",
            "Epoch 32/100\n",
            "11/11 [==============================] - 0s 4ms/step - loss: 31.7915 - mae: 31.7915 - val_loss: 101.8507 - val_mae: 101.8507\n",
            "Epoch 33/100\n",
            "11/11 [==============================] - 0s 4ms/step - loss: 33.8527 - mae: 33.8527 - val_loss: 112.7284 - val_mae: 112.7284\n",
            "Epoch 34/100\n",
            "11/11 [==============================] - 0s 4ms/step - loss: 33.7822 - mae: 33.7822 - val_loss: 114.7088 - val_mae: 114.7088\n",
            "Epoch 35/100\n",
            "11/11 [==============================] - 0s 4ms/step - loss: 31.5713 - mae: 31.5713 - val_loss: 102.6500 - val_mae: 102.6500\n",
            "Epoch 36/100\n",
            "11/11 [==============================] - 0s 4ms/step - loss: 31.3180 - mae: 31.3180 - val_loss: 101.6240 - val_mae: 101.6240\n",
            "Epoch 37/100\n",
            "11/11 [==============================] - 0s 6ms/step - loss: 31.8260 - mae: 31.8260 - val_loss: 102.8447 - val_mae: 102.8447\n",
            "Epoch 38/100\n",
            "11/11 [==============================] - 0s 7ms/step - loss: 32.2796 - mae: 32.2796 - val_loss: 102.7186 - val_mae: 102.7186\n",
            "Epoch 39/100\n",
            "11/11 [==============================] - 0s 6ms/step - loss: 31.6899 - mae: 31.6899 - val_loss: 102.8936 - val_mae: 102.8936\n",
            "Epoch 40/100\n",
            "11/11 [==============================] - 0s 4ms/step - loss: 31.1751 - mae: 31.1751 - val_loss: 103.9947 - val_mae: 103.9947\n",
            "Epoch 41/100\n",
            "11/11 [==============================] - 0s 4ms/step - loss: 32.3452 - mae: 32.3452 - val_loss: 100.7648 - val_mae: 100.7648\n",
            "Epoch 42/100\n",
            "11/11 [==============================] - 0s 4ms/step - loss: 31.2004 - mae: 31.2004 - val_loss: 103.0445 - val_mae: 103.0445\n",
            "Epoch 43/100\n",
            "11/11 [==============================] - 0s 4ms/step - loss: 32.2857 - mae: 32.2857 - val_loss: 99.5225 - val_mae: 99.5225\n",
            "Epoch 44/100\n",
            "11/11 [==============================] - 0s 4ms/step - loss: 30.7782 - mae: 30.7782 - val_loss: 102.5784 - val_mae: 102.5784\n",
            "Epoch 45/100\n",
            "11/11 [==============================] - 0s 4ms/step - loss: 30.4612 - mae: 30.4612 - val_loss: 102.7590 - val_mae: 102.7590\n",
            "Epoch 46/100\n",
            "11/11 [==============================] - 0s 4ms/step - loss: 30.5447 - mae: 30.5447 - val_loss: 99.1727 - val_mae: 99.1727\n",
            "Epoch 47/100\n",
            "11/11 [==============================] - 0s 4ms/step - loss: 30.5228 - mae: 30.5228 - val_loss: 99.2995 - val_mae: 99.2995\n",
            "Epoch 48/100\n",
            "11/11 [==============================] - 0s 4ms/step - loss: 30.8547 - mae: 30.8547 - val_loss: 99.1435 - val_mae: 99.1435\n",
            "Epoch 49/100\n",
            "11/11 [==============================] - 0s 5ms/step - loss: 30.8584 - mae: 30.8584 - val_loss: 103.7963 - val_mae: 103.7963\n",
            "Epoch 50/100\n",
            "11/11 [==============================] - 0s 4ms/step - loss: 30.6960 - mae: 30.6960 - val_loss: 109.9951 - val_mae: 109.9951\n",
            "Epoch 51/100\n",
            "11/11 [==============================] - 0s 4ms/step - loss: 31.0678 - mae: 31.0678 - val_loss: 105.3275 - val_mae: 105.3275\n",
            "Epoch 52/100\n",
            "11/11 [==============================] - 0s 4ms/step - loss: 30.8350 - mae: 30.8350 - val_loss: 100.0203 - val_mae: 100.0203\n",
            "Epoch 53/100\n",
            "11/11 [==============================] - 0s 4ms/step - loss: 31.3210 - mae: 31.3210 - val_loss: 98.3194 - val_mae: 98.3194\n",
            "Epoch 54/100\n",
            "11/11 [==============================] - 0s 6ms/step - loss: 31.5671 - mae: 31.5671 - val_loss: 105.2079 - val_mae: 105.2079\n",
            "Epoch 55/100\n",
            "11/11 [==============================] - 0s 4ms/step - loss: 31.5735 - mae: 31.5735 - val_loss: 105.0210 - val_mae: 105.0210\n",
            "Epoch 56/100\n",
            "11/11 [==============================] - 0s 4ms/step - loss: 30.2587 - mae: 30.2587 - val_loss: 97.5291 - val_mae: 97.5291\n",
            "Epoch 57/100\n",
            "11/11 [==============================] - 0s 4ms/step - loss: 30.2740 - mae: 30.2740 - val_loss: 103.9070 - val_mae: 103.9070\n",
            "Epoch 58/100\n",
            "11/11 [==============================] - 0s 4ms/step - loss: 30.1986 - mae: 30.1986 - val_loss: 100.3364 - val_mae: 100.3364\n",
            "Epoch 59/100\n",
            "11/11 [==============================] - 0s 4ms/step - loss: 30.9873 - mae: 30.9873 - val_loss: 100.4308 - val_mae: 100.4308\n",
            "Epoch 60/100\n",
            "11/11 [==============================] - 0s 4ms/step - loss: 32.2770 - mae: 32.2770 - val_loss: 110.3988 - val_mae: 110.3988\n",
            "Epoch 61/100\n",
            "11/11 [==============================] - 0s 6ms/step - loss: 33.6750 - mae: 33.6750 - val_loss: 133.3726 - val_mae: 133.3726\n",
            "Epoch 62/100\n",
            "11/11 [==============================] - 0s 4ms/step - loss: 33.3790 - mae: 33.3790 - val_loss: 115.5772 - val_mae: 115.5772\n",
            "Epoch 63/100\n",
            "11/11 [==============================] - 0s 4ms/step - loss: 30.3180 - mae: 30.3180 - val_loss: 101.6064 - val_mae: 101.6064\n",
            "Epoch 64/100\n",
            "11/11 [==============================] - 0s 4ms/step - loss: 31.2981 - mae: 31.2981 - val_loss: 108.1254 - val_mae: 108.1254\n",
            "Epoch 65/100\n",
            "11/11 [==============================] - 0s 4ms/step - loss: 31.2004 - mae: 31.2004 - val_loss: 97.4786 - val_mae: 97.4786\n",
            "Epoch 66/100\n",
            "11/11 [==============================] - 0s 4ms/step - loss: 29.7423 - mae: 29.7423 - val_loss: 96.7315 - val_mae: 96.7315\n",
            "Epoch 67/100\n",
            "11/11 [==============================] - 0s 5ms/step - loss: 29.5716 - mae: 29.5716 - val_loss: 98.1913 - val_mae: 98.1913\n",
            "Epoch 68/100\n",
            "11/11 [==============================] - 0s 7ms/step - loss: 30.3537 - mae: 30.3537 - val_loss: 96.3396 - val_mae: 96.3396\n",
            "Epoch 69/100\n",
            "11/11 [==============================] - 0s 4ms/step - loss: 30.8926 - mae: 30.8926 - val_loss: 97.1778 - val_mae: 97.1778\n",
            "Epoch 70/100\n",
            "11/11 [==============================] - 0s 4ms/step - loss: 30.6459 - mae: 30.6459 - val_loss: 108.9159 - val_mae: 108.9159\n",
            "Epoch 71/100\n",
            "11/11 [==============================] - 0s 4ms/step - loss: 31.1276 - mae: 31.1276 - val_loss: 103.8715 - val_mae: 103.8715\n",
            "Epoch 72/100\n",
            "11/11 [==============================] - 0s 4ms/step - loss: 29.8430 - mae: 29.8430 - val_loss: 99.5855 - val_mae: 99.5855\n",
            "Epoch 73/100\n",
            "11/11 [==============================] - 0s 4ms/step - loss: 30.2404 - mae: 30.2404 - val_loss: 96.5593 - val_mae: 96.5593\n",
            "Epoch 74/100\n",
            "11/11 [==============================] - 0s 6ms/step - loss: 29.5706 - mae: 29.5706 - val_loss: 96.0099 - val_mae: 96.0099\n",
            "Epoch 75/100\n",
            "11/11 [==============================] - 0s 4ms/step - loss: 29.9080 - mae: 29.9080 - val_loss: 96.4492 - val_mae: 96.4492\n",
            "Epoch 76/100\n",
            "11/11 [==============================] - 0s 6ms/step - loss: 29.5757 - mae: 29.5757 - val_loss: 96.0160 - val_mae: 96.0160\n",
            "Epoch 77/100\n",
            "11/11 [==============================] - 0s 4ms/step - loss: 29.3005 - mae: 29.3005 - val_loss: 97.6764 - val_mae: 97.6764\n",
            "Epoch 78/100\n",
            "11/11 [==============================] - 0s 4ms/step - loss: 29.9595 - mae: 29.9595 - val_loss: 106.2281 - val_mae: 106.2281\n",
            "Epoch 79/100\n",
            "11/11 [==============================] - 0s 4ms/step - loss: 29.6430 - mae: 29.6430 - val_loss: 95.8570 - val_mae: 95.8570\n",
            "Epoch 80/100\n",
            "11/11 [==============================] - 0s 4ms/step - loss: 29.8013 - mae: 29.8013 - val_loss: 96.0480 - val_mae: 96.0480\n",
            "Epoch 81/100\n",
            "11/11 [==============================] - 0s 4ms/step - loss: 30.7136 - mae: 30.7136 - val_loss: 96.0778 - val_mae: 96.0778\n",
            "Epoch 82/100\n",
            "11/11 [==============================] - 0s 4ms/step - loss: 29.2312 - mae: 29.2312 - val_loss: 109.5081 - val_mae: 109.5081\n",
            "Epoch 83/100\n",
            "11/11 [==============================] - 0s 6ms/step - loss: 30.3488 - mae: 30.3488 - val_loss: 102.2078 - val_mae: 102.2078\n",
            "Epoch 84/100\n",
            "11/11 [==============================] - 0s 4ms/step - loss: 30.3616 - mae: 30.3616 - val_loss: 96.6440 - val_mae: 96.6440\n",
            "Epoch 85/100\n",
            "11/11 [==============================] - 0s 5ms/step - loss: 31.2062 - mae: 31.2062 - val_loss: 95.2042 - val_mae: 95.2042\n",
            "Epoch 86/100\n",
            "11/11 [==============================] - 0s 5ms/step - loss: 29.6982 - mae: 29.6982 - val_loss: 104.6437 - val_mae: 104.6437\n",
            "Epoch 87/100\n",
            "11/11 [==============================] - 0s 4ms/step - loss: 30.6314 - mae: 30.6314 - val_loss: 105.5900 - val_mae: 105.5900\n",
            "Epoch 88/100\n",
            "11/11 [==============================] - 0s 4ms/step - loss: 30.5244 - mae: 30.5244 - val_loss: 97.3780 - val_mae: 97.3780\n",
            "Epoch 89/100\n",
            "11/11 [==============================] - 0s 4ms/step - loss: 31.2619 - mae: 31.2619 - val_loss: 95.1400 - val_mae: 95.1400\n",
            "Epoch 90/100\n",
            "11/11 [==============================] - 0s 4ms/step - loss: 29.5553 - mae: 29.5553 - val_loss: 101.4766 - val_mae: 101.4766\n",
            "Epoch 91/100\n",
            "11/11 [==============================] - 0s 4ms/step - loss: 30.1370 - mae: 30.1370 - val_loss: 96.1521 - val_mae: 96.1521\n",
            "Epoch 92/100\n",
            "11/11 [==============================] - 0s 4ms/step - loss: 30.7628 - mae: 30.7628 - val_loss: 95.3589 - val_mae: 95.3589\n",
            "Epoch 93/100\n",
            "11/11 [==============================] - 0s 4ms/step - loss: 29.2797 - mae: 29.2797 - val_loss: 95.2919 - val_mae: 95.2919\n",
            "Epoch 94/100\n",
            "11/11 [==============================] - 0s 4ms/step - loss: 29.1043 - mae: 29.1043 - val_loss: 95.6832 - val_mae: 95.6832\n",
            "Epoch 95/100\n",
            "11/11 [==============================] - 0s 4ms/step - loss: 29.2833 - mae: 29.2833 - val_loss: 95.8356 - val_mae: 95.8356\n",
            "Epoch 96/100\n",
            "11/11 [==============================] - 0s 5ms/step - loss: 29.2755 - mae: 29.2755 - val_loss: 95.1242 - val_mae: 95.1242\n",
            "Epoch 97/100\n",
            "11/11 [==============================] - 0s 6ms/step - loss: 29.4729 - mae: 29.4729 - val_loss: 94.8463 - val_mae: 94.8463\n",
            "Epoch 98/100\n",
            "11/11 [==============================] - 0s 4ms/step - loss: 28.8982 - mae: 28.8982 - val_loss: 96.5299 - val_mae: 96.5299\n",
            "Epoch 99/100\n",
            "11/11 [==============================] - 0s 4ms/step - loss: 29.2753 - mae: 29.2753 - val_loss: 98.6229 - val_mae: 98.6229\n",
            "Epoch 100/100\n",
            "11/11 [==============================] - 0s 4ms/step - loss: 29.1229 - mae: 29.1229 - val_loss: 100.4251 - val_mae: 100.4251\n"
          ]
        },
        {
          "output_type": "execute_result",
          "data": {
            "text/plain": [
              "<keras.callbacks.History at 0x7f45f701c350>"
            ]
          },
          "metadata": {},
          "execution_count": 69
        }
      ]
    },
    {
      "cell_type": "code",
      "source": [
        "model_Dense.evaluate(test_windows,test_labels)"
      ],
      "metadata": {
        "id": "z_Brmxx7WG9a",
        "colab": {
          "base_uri": "https://localhost:8080/"
        },
        "outputId": "df4d36ad-9733-472f-ba80-382ac0aa7e82"
      },
      "execution_count": 70,
      "outputs": [
        {
          "output_type": "stream",
          "name": "stdout",
          "text": [
            "11/11 [==============================] - 0s 2ms/step - loss: 100.4251 - mae: 100.4251\n"
          ]
        },
        {
          "output_type": "execute_result",
          "data": {
            "text/plain": [
              "[100.42508697509766, 100.42508697509766]"
            ]
          },
          "metadata": {},
          "execution_count": 70
        }
      ]
    },
    {
      "cell_type": "code",
      "source": [
        "# Making Predictions:\n",
        "Dense_preds=tf.squeeze(model_Dense.predict(test_windows))"
      ],
      "metadata": {
        "id": "wkj6vZxF60J4"
      },
      "execution_count": 71,
      "outputs": []
    },
    {
      "cell_type": "code",
      "source": [
        "model_Dense_results=evaluate_preds(y_true=tf.squeeze(test_labels),\n",
        "                                  y_pred=Dense_preds)"
      ],
      "metadata": {
        "id": "CPiK7uedCDdN"
      },
      "execution_count": 75,
      "outputs": []
    },
    {
      "cell_type": "code",
      "source": [
        "model_Dense_results"
      ],
      "metadata": {
        "colab": {
          "base_uri": "https://localhost:8080/"
        },
        "id": "4PBlXpdDCz5-",
        "outputId": "bb018133-8af7-41aa-e9cd-a281544ddcfd"
      },
      "execution_count": 76,
      "outputs": [
        {
          "output_type": "execute_result",
          "data": {
            "text/plain": [
              "{'mae': 100.42509, 'mse': 17547.717, 'rmse': 132.46779, 'mape': 3.8007066}"
            ]
          },
          "metadata": {},
          "execution_count": 76
        }
      ]
    },
    {
      "cell_type": "code",
      "source": [
        "#Comparing with Naive results:\n",
        "naive_results"
      ],
      "metadata": {
        "colab": {
          "base_uri": "https://localhost:8080/"
        },
        "id": "NIhYC9uHC95z",
        "outputId": "83d02237-acd6-45a4-a2ef-a952bbce0781"
      },
      "execution_count": 78,
      "outputs": [
        {
          "output_type": "execute_result",
          "data": {
            "text/plain": [
              "{'mae': 91.56533, 'mse': 14612.331, 'rmse': 120.88148, 'mape': 3.427295}"
            ]
          },
          "metadata": {},
          "execution_count": 78
        }
      ]
    },
    {
      "cell_type": "markdown",
      "source": [
        "## **LSTM MODEL (RNN)**"
      ],
      "metadata": {
        "id": "JuxpcWScIoSn"
      }
    },
    {
      "cell_type": "markdown",
      "source": [
        "The ```tf.keras.layers.LSTM()``` layer takes a tensor with [batch, timesteps, feature] dimensions.\n",
        "\n",
        "To fix this, we could adjust the shape of all of our ```train_windows```  or we could use a ```tf.keras.layers.Lamdba``` (called a Lambda layer) to do this for us in our model.\n",
        "\n",
        "The Lambda layer wraps a function into a layer which can be used with a model."
      ],
      "metadata": {
        "id": "KBTMpMveKpUy"
      }
    },
    {
      "cell_type": "code",
      "source": [
        "from tensorflow.keras import layers"
      ],
      "metadata": {
        "id": "GDr29CX2N9y9"
      },
      "execution_count": 80,
      "outputs": []
    },
    {
      "cell_type": "code",
      "source": [
        "tf.random.set_seed(42)\n",
        "\n",
        "inputs=layers.Input(shape=(WINDOW_SIZE))\n",
        "\n",
        "x=layers.Lambda(lambda x: tf.expand_dims(x,axis=1))(inputs)\n",
        "\n",
        "x=layers.LSTM(128,activation='relu')(x)\n",
        "\n",
        "output=layers.Dense(HORIZON)(x)\n",
        "\n",
        "LSTM_model= tf.keras.Model(inputs=inputs, outputs=output)\n",
        "\n",
        "LSTM_model.compile(loss='mae',\n",
        "                   optimizer=tf.keras.optimizers.Adam()\n",
        "                   )\n",
        "\n",
        "LSTM_model.fit(train_windows,\n",
        "               train_labels,\n",
        "               epochs=119,\n",
        "               batch_size=128,\n",
        "               validation_data=(test_windows,test_labels))"
      ],
      "metadata": {
        "colab": {
          "base_uri": "https://localhost:8080/"
        },
        "id": "EYrG8WDaKn-z",
        "outputId": "a59d964f-e684-4866-d598-badd3c484a05"
      },
      "execution_count": 83,
      "outputs": [
        {
          "output_type": "stream",
          "name": "stdout",
          "text": [
            "Epoch 1/119\n",
            "11/11 [==============================] - 2s 29ms/step - loss: 561.1096 - val_loss: 1896.1434\n",
            "Epoch 2/119\n",
            "11/11 [==============================] - 0s 9ms/step - loss: 341.8191 - val_loss: 730.9246\n",
            "Epoch 3/119\n",
            "11/11 [==============================] - 0s 10ms/step - loss: 93.8249 - val_loss: 324.8532\n",
            "Epoch 4/119\n",
            "11/11 [==============================] - 0s 10ms/step - loss: 62.4862 - val_loss: 142.3543\n",
            "Epoch 5/119\n",
            "11/11 [==============================] - 0s 7ms/step - loss: 49.3516 - val_loss: 133.7403\n",
            "Epoch 6/119\n",
            "11/11 [==============================] - 0s 8ms/step - loss: 45.2876 - val_loss: 131.9626\n",
            "Epoch 7/119\n",
            "11/11 [==============================] - 0s 10ms/step - loss: 43.6790 - val_loss: 138.2379\n",
            "Epoch 8/119\n",
            "11/11 [==============================] - 0s 8ms/step - loss: 41.5800 - val_loss: 159.9731\n",
            "Epoch 9/119\n",
            "11/11 [==============================] - 0s 10ms/step - loss: 41.7898 - val_loss: 115.3306\n",
            "Epoch 10/119\n",
            "11/11 [==============================] - 0s 9ms/step - loss: 39.7892 - val_loss: 136.7552\n",
            "Epoch 11/119\n",
            "11/11 [==============================] - 0s 9ms/step - loss: 43.8142 - val_loss: 130.6992\n",
            "Epoch 12/119\n",
            "11/11 [==============================] - 0s 7ms/step - loss: 39.9078 - val_loss: 117.6872\n",
            "Epoch 13/119\n",
            "11/11 [==============================] - 0s 9ms/step - loss: 37.3678 - val_loss: 134.2847\n",
            "Epoch 14/119\n",
            "11/11 [==============================] - 0s 10ms/step - loss: 38.8405 - val_loss: 122.5218\n",
            "Epoch 15/119\n",
            "11/11 [==============================] - 0s 9ms/step - loss: 37.7175 - val_loss: 118.5196\n",
            "Epoch 16/119\n",
            "11/11 [==============================] - 0s 8ms/step - loss: 35.6950 - val_loss: 122.4045\n",
            "Epoch 17/119\n",
            "11/11 [==============================] - 0s 8ms/step - loss: 36.4266 - val_loss: 131.0299\n",
            "Epoch 18/119\n",
            "11/11 [==============================] - 0s 10ms/step - loss: 36.8813 - val_loss: 127.3837\n",
            "Epoch 19/119\n",
            "11/11 [==============================] - 0s 10ms/step - loss: 36.0230 - val_loss: 124.3051\n",
            "Epoch 20/119\n",
            "11/11 [==============================] - 0s 8ms/step - loss: 35.0403 - val_loss: 123.3397\n",
            "Epoch 21/119\n",
            "11/11 [==============================] - 0s 10ms/step - loss: 35.4827 - val_loss: 121.8461\n",
            "Epoch 22/119\n",
            "11/11 [==============================] - 0s 8ms/step - loss: 37.1088 - val_loss: 129.2597\n",
            "Epoch 23/119\n",
            "11/11 [==============================] - 0s 10ms/step - loss: 33.7358 - val_loss: 139.1891\n",
            "Epoch 24/119\n",
            "11/11 [==============================] - 0s 10ms/step - loss: 35.1092 - val_loss: 131.8252\n",
            "Epoch 25/119\n",
            "11/11 [==============================] - 0s 8ms/step - loss: 35.2194 - val_loss: 132.2684\n",
            "Epoch 26/119\n",
            "11/11 [==============================] - 0s 11ms/step - loss: 35.1693 - val_loss: 126.0804\n",
            "Epoch 27/119\n",
            "11/11 [==============================] - 0s 8ms/step - loss: 34.5735 - val_loss: 107.3096\n",
            "Epoch 28/119\n",
            "11/11 [==============================] - 0s 10ms/step - loss: 32.3829 - val_loss: 117.5872\n",
            "Epoch 29/119\n",
            "11/11 [==============================] - 0s 11ms/step - loss: 35.7384 - val_loss: 124.1194\n",
            "Epoch 30/119\n",
            "11/11 [==============================] - 0s 10ms/step - loss: 36.6528 - val_loss: 111.4789\n",
            "Epoch 31/119\n",
            "11/11 [==============================] - 0s 10ms/step - loss: 36.0431 - val_loss: 112.2738\n",
            "Epoch 32/119\n",
            "11/11 [==============================] - 0s 10ms/step - loss: 33.9129 - val_loss: 129.2948\n",
            "Epoch 33/119\n",
            "11/11 [==============================] - 0s 9ms/step - loss: 33.7792 - val_loss: 148.1701\n",
            "Epoch 34/119\n",
            "11/11 [==============================] - 0s 10ms/step - loss: 37.9082 - val_loss: 122.9781\n",
            "Epoch 35/119\n",
            "11/11 [==============================] - 0s 9ms/step - loss: 33.3033 - val_loss: 122.3696\n",
            "Epoch 36/119\n",
            "11/11 [==============================] - 0s 8ms/step - loss: 34.4152 - val_loss: 128.1744\n",
            "Epoch 37/119\n",
            "11/11 [==============================] - 0s 10ms/step - loss: 34.7748 - val_loss: 119.5311\n",
            "Epoch 38/119\n",
            "11/11 [==============================] - 0s 10ms/step - loss: 34.4088 - val_loss: 134.1808\n",
            "Epoch 39/119\n",
            "11/11 [==============================] - 0s 8ms/step - loss: 38.0995 - val_loss: 137.4073\n",
            "Epoch 40/119\n",
            "11/11 [==============================] - 0s 10ms/step - loss: 37.8881 - val_loss: 120.8283\n",
            "Epoch 41/119\n",
            "11/11 [==============================] - 0s 10ms/step - loss: 34.5172 - val_loss: 112.5210\n",
            "Epoch 42/119\n",
            "11/11 [==============================] - 0s 9ms/step - loss: 35.4528 - val_loss: 117.5451\n",
            "Epoch 43/119\n",
            "11/11 [==============================] - 0s 10ms/step - loss: 39.8113 - val_loss: 118.4874\n",
            "Epoch 44/119\n",
            "11/11 [==============================] - 0s 9ms/step - loss: 39.1223 - val_loss: 125.6638\n",
            "Epoch 45/119\n",
            "11/11 [==============================] - 0s 9ms/step - loss: 38.6476 - val_loss: 117.7618\n",
            "Epoch 46/119\n",
            "11/11 [==============================] - 0s 9ms/step - loss: 37.9484 - val_loss: 130.9018\n",
            "Epoch 47/119\n",
            "11/11 [==============================] - 0s 8ms/step - loss: 38.1817 - val_loss: 118.9040\n",
            "Epoch 48/119\n",
            "11/11 [==============================] - 0s 9ms/step - loss: 37.3457 - val_loss: 120.5343\n",
            "Epoch 49/119\n",
            "11/11 [==============================] - 0s 9ms/step - loss: 36.3118 - val_loss: 118.3804\n",
            "Epoch 50/119\n",
            "11/11 [==============================] - 0s 9ms/step - loss: 35.5913 - val_loss: 117.2055\n",
            "Epoch 51/119\n",
            "11/11 [==============================] - 0s 12ms/step - loss: 36.3233 - val_loss: 112.4344\n",
            "Epoch 52/119\n",
            "11/11 [==============================] - 0s 10ms/step - loss: 34.1365 - val_loss: 111.0357\n",
            "Epoch 53/119\n",
            "11/11 [==============================] - 0s 10ms/step - loss: 35.2506 - val_loss: 109.1650\n",
            "Epoch 54/119\n",
            "11/11 [==============================] - 0s 10ms/step - loss: 33.3325 - val_loss: 119.2824\n",
            "Epoch 55/119\n",
            "11/11 [==============================] - 0s 8ms/step - loss: 33.3339 - val_loss: 108.1392\n",
            "Epoch 56/119\n",
            "11/11 [==============================] - 0s 9ms/step - loss: 32.1937 - val_loss: 108.9700\n",
            "Epoch 57/119\n",
            "11/11 [==============================] - 0s 9ms/step - loss: 31.6943 - val_loss: 112.6746\n",
            "Epoch 58/119\n",
            "11/11 [==============================] - 0s 9ms/step - loss: 32.2288 - val_loss: 108.3695\n",
            "Epoch 59/119\n",
            "11/11 [==============================] - 0s 8ms/step - loss: 34.1596 - val_loss: 109.5764\n",
            "Epoch 60/119\n",
            "11/11 [==============================] - 0s 10ms/step - loss: 32.2202 - val_loss: 123.2760\n",
            "Epoch 61/119\n",
            "11/11 [==============================] - 0s 9ms/step - loss: 32.7692 - val_loss: 116.7333\n",
            "Epoch 62/119\n",
            "11/11 [==============================] - 0s 8ms/step - loss: 34.2824 - val_loss: 106.5135\n",
            "Epoch 63/119\n",
            "11/11 [==============================] - 0s 10ms/step - loss: 33.9984 - val_loss: 112.2605\n",
            "Epoch 64/119\n",
            "11/11 [==============================] - 0s 8ms/step - loss: 33.3777 - val_loss: 105.7151\n",
            "Epoch 65/119\n",
            "11/11 [==============================] - 0s 10ms/step - loss: 32.6516 - val_loss: 105.6477\n",
            "Epoch 66/119\n",
            "11/11 [==============================] - 0s 8ms/step - loss: 31.7374 - val_loss: 110.3858\n",
            "Epoch 67/119\n",
            "11/11 [==============================] - 0s 10ms/step - loss: 31.1103 - val_loss: 105.8706\n",
            "Epoch 68/119\n",
            "11/11 [==============================] - 0s 9ms/step - loss: 30.8691 - val_loss: 112.7617\n",
            "Epoch 69/119\n",
            "11/11 [==============================] - 0s 8ms/step - loss: 31.9483 - val_loss: 111.1276\n",
            "Epoch 70/119\n",
            "11/11 [==============================] - 0s 10ms/step - loss: 31.2011 - val_loss: 101.5030\n",
            "Epoch 71/119\n",
            "11/11 [==============================] - 0s 8ms/step - loss: 30.1601 - val_loss: 106.1930\n",
            "Epoch 72/119\n",
            "11/11 [==============================] - 0s 9ms/step - loss: 30.4995 - val_loss: 106.3958\n",
            "Epoch 73/119\n",
            "11/11 [==============================] - 0s 10ms/step - loss: 30.2751 - val_loss: 103.3991\n",
            "Epoch 74/119\n",
            "11/11 [==============================] - 0s 9ms/step - loss: 30.0814 - val_loss: 108.0846\n",
            "Epoch 75/119\n",
            "11/11 [==============================] - 0s 11ms/step - loss: 30.6414 - val_loss: 103.9128\n",
            "Epoch 76/119\n",
            "11/11 [==============================] - 0s 9ms/step - loss: 31.1429 - val_loss: 105.0264\n",
            "Epoch 77/119\n",
            "11/11 [==============================] - 0s 10ms/step - loss: 29.9902 - val_loss: 104.1653\n",
            "Epoch 78/119\n",
            "11/11 [==============================] - 0s 9ms/step - loss: 30.3404 - val_loss: 115.2792\n",
            "Epoch 79/119\n",
            "11/11 [==============================] - 0s 10ms/step - loss: 30.9113 - val_loss: 112.6851\n",
            "Epoch 80/119\n",
            "11/11 [==============================] - 0s 9ms/step - loss: 31.0143 - val_loss: 104.7621\n",
            "Epoch 81/119\n",
            "11/11 [==============================] - 0s 9ms/step - loss: 30.3363 - val_loss: 107.6340\n",
            "Epoch 82/119\n",
            "11/11 [==============================] - 0s 10ms/step - loss: 30.9977 - val_loss: 104.6860\n",
            "Epoch 83/119\n",
            "11/11 [==============================] - 0s 9ms/step - loss: 30.7657 - val_loss: 115.6552\n",
            "Epoch 84/119\n",
            "11/11 [==============================] - 0s 9ms/step - loss: 31.0576 - val_loss: 106.5447\n",
            "Epoch 85/119\n",
            "11/11 [==============================] - 0s 9ms/step - loss: 30.6218 - val_loss: 103.0883\n",
            "Epoch 86/119\n",
            "11/11 [==============================] - 0s 9ms/step - loss: 31.1680 - val_loss: 101.8828\n",
            "Epoch 87/119\n",
            "11/11 [==============================] - 0s 8ms/step - loss: 30.8525 - val_loss: 104.3104\n",
            "Epoch 88/119\n",
            "11/11 [==============================] - 0s 8ms/step - loss: 30.1019 - val_loss: 108.1399\n",
            "Epoch 89/119\n",
            "11/11 [==============================] - 0s 9ms/step - loss: 31.5758 - val_loss: 103.2585\n",
            "Epoch 90/119\n",
            "11/11 [==============================] - 0s 9ms/step - loss: 31.4603 - val_loss: 102.1500\n",
            "Epoch 91/119\n",
            "11/11 [==============================] - 0s 10ms/step - loss: 31.5228 - val_loss: 105.6265\n",
            "Epoch 92/119\n",
            "11/11 [==============================] - 0s 9ms/step - loss: 31.6754 - val_loss: 104.7953\n",
            "Epoch 93/119\n",
            "11/11 [==============================] - 0s 9ms/step - loss: 29.6700 - val_loss: 106.5593\n",
            "Epoch 94/119\n",
            "11/11 [==============================] - 0s 8ms/step - loss: 30.7557 - val_loss: 103.8302\n",
            "Epoch 95/119\n",
            "11/11 [==============================] - 0s 9ms/step - loss: 30.8546 - val_loss: 106.9087\n",
            "Epoch 96/119\n",
            "11/11 [==============================] - 0s 9ms/step - loss: 30.8874 - val_loss: 107.2528\n",
            "Epoch 97/119\n",
            "11/11 [==============================] - 0s 9ms/step - loss: 29.9141 - val_loss: 104.1330\n",
            "Epoch 98/119\n",
            "11/11 [==============================] - 0s 10ms/step - loss: 30.0109 - val_loss: 102.6722\n",
            "Epoch 99/119\n",
            "11/11 [==============================] - 0s 8ms/step - loss: 29.6874 - val_loss: 102.2064\n",
            "Epoch 100/119\n",
            "11/11 [==============================] - 0s 8ms/step - loss: 29.8598 - val_loss: 108.4586\n",
            "Epoch 101/119\n",
            "11/11 [==============================] - 0s 8ms/step - loss: 31.3261 - val_loss: 102.3386\n",
            "Epoch 102/119\n",
            "11/11 [==============================] - 0s 9ms/step - loss: 30.2909 - val_loss: 105.7439\n",
            "Epoch 103/119\n",
            "11/11 [==============================] - 0s 8ms/step - loss: 30.3181 - val_loss: 107.9791\n",
            "Epoch 104/119\n",
            "11/11 [==============================] - 0s 10ms/step - loss: 30.8042 - val_loss: 108.6993\n",
            "Epoch 105/119\n",
            "11/11 [==============================] - 0s 8ms/step - loss: 31.6944 - val_loss: 100.9919\n",
            "Epoch 106/119\n",
            "11/11 [==============================] - 0s 8ms/step - loss: 30.6883 - val_loss: 99.5326\n",
            "Epoch 107/119\n",
            "11/11 [==============================] - 0s 10ms/step - loss: 30.2941 - val_loss: 99.7706\n",
            "Epoch 108/119\n",
            "11/11 [==============================] - 0s 10ms/step - loss: 30.1084 - val_loss: 99.3709\n",
            "Epoch 109/119\n",
            "11/11 [==============================] - 0s 8ms/step - loss: 30.4976 - val_loss: 99.1797\n",
            "Epoch 110/119\n",
            "11/11 [==============================] - 0s 9ms/step - loss: 30.6809 - val_loss: 111.6885\n",
            "Epoch 111/119\n",
            "11/11 [==============================] - 0s 8ms/step - loss: 30.6513 - val_loss: 101.5266\n",
            "Epoch 112/119\n",
            "11/11 [==============================] - 0s 10ms/step - loss: 30.1898 - val_loss: 106.4524\n",
            "Epoch 113/119\n",
            "11/11 [==============================] - 0s 8ms/step - loss: 29.6974 - val_loss: 103.0248\n",
            "Epoch 114/119\n",
            "11/11 [==============================] - 0s 9ms/step - loss: 29.8327 - val_loss: 100.4481\n",
            "Epoch 115/119\n",
            "11/11 [==============================] - 0s 8ms/step - loss: 30.1506 - val_loss: 100.1583\n",
            "Epoch 116/119\n",
            "11/11 [==============================] - 0s 10ms/step - loss: 29.8641 - val_loss: 105.3356\n",
            "Epoch 117/119\n",
            "11/11 [==============================] - 0s 8ms/step - loss: 31.0919 - val_loss: 100.6685\n",
            "Epoch 118/119\n",
            "11/11 [==============================] - 0s 11ms/step - loss: 30.9637 - val_loss: 102.7515\n",
            "Epoch 119/119\n",
            "11/11 [==============================] - 0s 8ms/step - loss: 30.7373 - val_loss: 100.3544\n"
          ]
        },
        {
          "output_type": "execute_result",
          "data": {
            "text/plain": [
              "<keras.callbacks.History at 0x7f45facd2f50>"
            ]
          },
          "metadata": {},
          "execution_count": 83
        }
      ]
    },
    {
      "cell_type": "code",
      "source": [
        "LSTM_model.evaluate(test_windows,test_labels)"
      ],
      "metadata": {
        "colab": {
          "base_uri": "https://localhost:8080/"
        },
        "id": "e9LKrty2N0mr",
        "outputId": "a057a138-f783-4793-8925-7940dbd8542a"
      },
      "execution_count": 84,
      "outputs": [
        {
          "output_type": "stream",
          "name": "stdout",
          "text": [
            "11/11 [==============================] - 0s 2ms/step - loss: 100.3544\n"
          ]
        },
        {
          "output_type": "execute_result",
          "data": {
            "text/plain": [
              "100.35440063476562"
            ]
          },
          "metadata": {},
          "execution_count": 84
        }
      ]
    },
    {
      "cell_type": "code",
      "source": [
        "LSTM_model_preds=LSTM_model.predict(test_windows)"
      ],
      "metadata": {
        "id": "swrnKVf_O5bm"
      },
      "execution_count": 85,
      "outputs": []
    },
    {
      "cell_type": "code",
      "source": [
        "LSTM_model_results=evaluate_preds(y_true=tf.squeeze(test_labels),\n",
        "                                  y_pred=tf.squeeze(LSTM_model_preds))"
      ],
      "metadata": {
        "id": "-2KR-rSsPak5"
      },
      "execution_count": 87,
      "outputs": []
    },
    {
      "cell_type": "code",
      "source": [
        "LSTM_model_results"
      ],
      "metadata": {
        "colab": {
          "base_uri": "https://localhost:8080/"
        },
        "id": "76ea0S5QPe9h",
        "outputId": "2520e766-bad6-4bd7-995b-d7828b0038ad"
      },
      "execution_count": 88,
      "outputs": [
        {
          "output_type": "execute_result",
          "data": {
            "text/plain": [
              "{'mae': 100.35441, 'mse': 17907.02, 'rmse': 133.81711, 'mape': 3.774754}"
            ]
          },
          "metadata": {},
          "execution_count": 88
        }
      ]
    },
    {
      "cell_type": "markdown",
      "source": [
        "### COMPARE THE TWO MODELS WITH THE BASELINE(NAIVE MODEL)"
      ],
      "metadata": {
        "id": "eb1Z9MyKSuNG"
      }
    },
    {
      "cell_type": "code",
      "source": [
        "model_results = pd.DataFrame({\"naive_model\": naive_results,\n",
        "                              \"Dense_model\": model_Dense_results,\n",
        "                              \"LSTM_model\":LSTM_model_results}).T\n",
        "model_results.head()"
      ],
      "metadata": {
        "colab": {
          "base_uri": "https://localhost:8080/",
          "height": 143
        },
        "id": "nPK9GBANP7LJ",
        "outputId": "8671f7a5-c09e-4959-cb13-6d3c17201293"
      },
      "execution_count": 89,
      "outputs": [
        {
          "output_type": "execute_result",
          "data": {
            "text/plain": [
              "                    mae           mse        rmse      mape\n",
              "naive_model   91.565331  14612.331055  120.881477  3.427295\n",
              "Dense_model  100.425087  17547.716797  132.467789  3.800707\n",
              "LSTM_model   100.354408  17907.019531  133.817108  3.774754"
            ],
            "text/html": [
              "\n",
              "  <div id=\"df-c4e0c54b-2820-447e-b87a-9bbd2d96064b\">\n",
              "    <div class=\"colab-df-container\">\n",
              "      <div>\n",
              "<style scoped>\n",
              "    .dataframe tbody tr th:only-of-type {\n",
              "        vertical-align: middle;\n",
              "    }\n",
              "\n",
              "    .dataframe tbody tr th {\n",
              "        vertical-align: top;\n",
              "    }\n",
              "\n",
              "    .dataframe thead th {\n",
              "        text-align: right;\n",
              "    }\n",
              "</style>\n",
              "<table border=\"1\" class=\"dataframe\">\n",
              "  <thead>\n",
              "    <tr style=\"text-align: right;\">\n",
              "      <th></th>\n",
              "      <th>mae</th>\n",
              "      <th>mse</th>\n",
              "      <th>rmse</th>\n",
              "      <th>mape</th>\n",
              "    </tr>\n",
              "  </thead>\n",
              "  <tbody>\n",
              "    <tr>\n",
              "      <th>naive_model</th>\n",
              "      <td>91.565331</td>\n",
              "      <td>14612.331055</td>\n",
              "      <td>120.881477</td>\n",
              "      <td>3.427295</td>\n",
              "    </tr>\n",
              "    <tr>\n",
              "      <th>Dense_model</th>\n",
              "      <td>100.425087</td>\n",
              "      <td>17547.716797</td>\n",
              "      <td>132.467789</td>\n",
              "      <td>3.800707</td>\n",
              "    </tr>\n",
              "    <tr>\n",
              "      <th>LSTM_model</th>\n",
              "      <td>100.354408</td>\n",
              "      <td>17907.019531</td>\n",
              "      <td>133.817108</td>\n",
              "      <td>3.774754</td>\n",
              "    </tr>\n",
              "  </tbody>\n",
              "</table>\n",
              "</div>\n",
              "      <button class=\"colab-df-convert\" onclick=\"convertToInteractive('df-c4e0c54b-2820-447e-b87a-9bbd2d96064b')\"\n",
              "              title=\"Convert this dataframe to an interactive table.\"\n",
              "              style=\"display:none;\">\n",
              "        \n",
              "  <svg xmlns=\"http://www.w3.org/2000/svg\" height=\"24px\"viewBox=\"0 0 24 24\"\n",
              "       width=\"24px\">\n",
              "    <path d=\"M0 0h24v24H0V0z\" fill=\"none\"/>\n",
              "    <path d=\"M18.56 5.44l.94 2.06.94-2.06 2.06-.94-2.06-.94-.94-2.06-.94 2.06-2.06.94zm-11 1L8.5 8.5l.94-2.06 2.06-.94-2.06-.94L8.5 2.5l-.94 2.06-2.06.94zm10 10l.94 2.06.94-2.06 2.06-.94-2.06-.94-.94-2.06-.94 2.06-2.06.94z\"/><path d=\"M17.41 7.96l-1.37-1.37c-.4-.4-.92-.59-1.43-.59-.52 0-1.04.2-1.43.59L10.3 9.45l-7.72 7.72c-.78.78-.78 2.05 0 2.83L4 21.41c.39.39.9.59 1.41.59.51 0 1.02-.2 1.41-.59l7.78-7.78 2.81-2.81c.8-.78.8-2.07 0-2.86zM5.41 20L4 18.59l7.72-7.72 1.47 1.35L5.41 20z\"/>\n",
              "  </svg>\n",
              "      </button>\n",
              "      \n",
              "  <style>\n",
              "    .colab-df-container {\n",
              "      display:flex;\n",
              "      flex-wrap:wrap;\n",
              "      gap: 12px;\n",
              "    }\n",
              "\n",
              "    .colab-df-convert {\n",
              "      background-color: #E8F0FE;\n",
              "      border: none;\n",
              "      border-radius: 50%;\n",
              "      cursor: pointer;\n",
              "      display: none;\n",
              "      fill: #1967D2;\n",
              "      height: 32px;\n",
              "      padding: 0 0 0 0;\n",
              "      width: 32px;\n",
              "    }\n",
              "\n",
              "    .colab-df-convert:hover {\n",
              "      background-color: #E2EBFA;\n",
              "      box-shadow: 0px 1px 2px rgba(60, 64, 67, 0.3), 0px 1px 3px 1px rgba(60, 64, 67, 0.15);\n",
              "      fill: #174EA6;\n",
              "    }\n",
              "\n",
              "    [theme=dark] .colab-df-convert {\n",
              "      background-color: #3B4455;\n",
              "      fill: #D2E3FC;\n",
              "    }\n",
              "\n",
              "    [theme=dark] .colab-df-convert:hover {\n",
              "      background-color: #434B5C;\n",
              "      box-shadow: 0px 1px 3px 1px rgba(0, 0, 0, 0.15);\n",
              "      filter: drop-shadow(0px 1px 2px rgba(0, 0, 0, 0.3));\n",
              "      fill: #FFFFFF;\n",
              "    }\n",
              "  </style>\n",
              "\n",
              "      <script>\n",
              "        const buttonEl =\n",
              "          document.querySelector('#df-c4e0c54b-2820-447e-b87a-9bbd2d96064b button.colab-df-convert');\n",
              "        buttonEl.style.display =\n",
              "          google.colab.kernel.accessAllowed ? 'block' : 'none';\n",
              "\n",
              "        async function convertToInteractive(key) {\n",
              "          const element = document.querySelector('#df-c4e0c54b-2820-447e-b87a-9bbd2d96064b');\n",
              "          const dataTable =\n",
              "            await google.colab.kernel.invokeFunction('convertToInteractive',\n",
              "                                                     [key], {});\n",
              "          if (!dataTable) return;\n",
              "\n",
              "          const docLinkHtml = 'Like what you see? Visit the ' +\n",
              "            '<a target=\"_blank\" href=https://colab.research.google.com/notebooks/data_table.ipynb>data table notebook</a>'\n",
              "            + ' to learn more about interactive tables.';\n",
              "          element.innerHTML = '';\n",
              "          dataTable['output_type'] = 'display_data';\n",
              "          await google.colab.output.renderOutput(dataTable, element);\n",
              "          const docLink = document.createElement('div');\n",
              "          docLink.innerHTML = docLinkHtml;\n",
              "          element.appendChild(docLink);\n",
              "        }\n",
              "      </script>\n",
              "    </div>\n",
              "  </div>\n",
              "  "
            ]
          },
          "metadata": {},
          "execution_count": 89
        }
      ]
    },
    {
      "cell_type": "code",
      "source": [
        "model_results[[\"mae\"]].sort_values(by=\"mae\").plot(figsize=(10, 7), kind=\"bar\")"
      ],
      "metadata": {
        "colab": {
          "base_uri": "https://localhost:8080/",
          "height": 503
        },
        "id": "npGGy6A1Sh7v",
        "outputId": "10272c38-7910-4537-aacd-d5033e9aa2a9"
      },
      "execution_count": 90,
      "outputs": [
        {
          "output_type": "execute_result",
          "data": {
            "text/plain": [
              "<matplotlib.axes._subplots.AxesSubplot at 0x7f45fa7537d0>"
            ]
          },
          "metadata": {},
          "execution_count": 90
        },
        {
          "output_type": "display_data",
          "data": {
            "text/plain": [
              "<Figure size 720x504 with 1 Axes>"
            ],
            "image/png": "[encoded data removed]"
          },
          "metadata": {
            "needs_background": "light"
          }
        }
      ]
    },
    {
      "cell_type": "code",
      "source": [],
      "metadata": {
        "id": "9An8jut_SmB9"
      },
      "execution_count": null,
      "outputs": []
    }
  ]
}